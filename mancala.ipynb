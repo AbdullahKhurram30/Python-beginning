{
 "cells": [
  {
   "cell_type": "code",
   "execution_count": 16,
   "metadata": {},
   "outputs": [],
   "source": [
    "BP1 = [4, 4, 4, 4, 4, 4, 0]\n",
    "BP2 = [4, 4, 4, 4, 4, 4, 0]"
   ]
  },
  {
   "cell_type": "code",
   "execution_count": 17,
   "metadata": {},
   "outputs": [],
   "source": [
    "def print_board():\n",
    "    BP2.reverse()\n",
    "    print('\\nPocket # :  6  5  4  3  2  1')\n",
    "    print('P2 -->', BP2[:1], BP2[1:7])\n",
    "    print('P1 --> ', '  ', BP1[0:6],BP1[6:])\n",
    "    print('Pocket # :  1  2  3  4  5  6')\n",
    "    BP2.reverse()"
   ]
  },
  {
   "cell_type": "code",
   "execution_count": 18,
   "metadata": {},
   "outputs": [
    {
     "output_type": "stream",
     "name": "stdout",
     "text": "\nPocket # :  6  5  4  3  2  1\nP2 --> [0] [4, 4, 4, 4, 4, 4]\nP1 -->     [4, 4, 4, 4, 4, 4] [0]\nPocket # :  1  2  3  4  5  6\n"
    }
   ],
   "source": [
    "print_board()"
   ]
  },
  {
   "cell_type": "code",
   "execution_count": 19,
   "metadata": {},
   "outputs": [],
   "source": [
    "P1inplay = sum(BP1[:6])\n",
    "P2inplay = sum(BP2[:6])"
   ]
  },
  {
   "cell_type": "code",
   "execution_count": 21,
   "metadata": {},
   "outputs": [
    {
     "output_type": "stream",
     "name": "stdout",
     "text": "\nPocket # :  6  5  4  3  2  1\nP2 --> [0] [4, 4, 4, 4, 4, 4]\nP1 -->     [4, 4, 0, 5, 5, 5] [1]\nPocket # :  1  2  3  4  5  6\nOF\n\nPocket # :  6  5  4  3  2  1\nP2 --> [0] [4, 4, 5, 5, 5, 5]\nP1 -->     [4, 4, 0, 5, 5, 0] [2]\nPocket # :  1  2  3  4  5  6\nOF\n\nPocket # :  6  5  4  3  2  1\nP2 --> [1] [5, 5, 6, 0, 5, 5]\nP1 -->     [5, 4, 0, 5, 5, 0] [2]\nPocket # :  1  2  3  4  5  6\n\nPocket # :  6  5  4  3  2  1\nP2 --> [1] [5, 5, 6, 0, 5, 0]\nP1 -->     [5, 0, 1, 6, 6, 6] [2]\nPocket # :  1  2  3  4  5  6\nOF\n\nPocket # :  6  5  4  3  2  1\nP2 --> [2] [0, 5, 6, 0, 5, 0]\nP1 -->     [6, 1, 2, 7, 6, 6] [2]\nPocket # :  1  2  3  4  5  6\nOF\n\nPocket # :  6  5  4  3  2  1\nP2 --> [2] [0, 5, 7, 1, 6, 1]\nP1 -->     [6, 1, 2, 0, 7, 7] [3]\nPocket # :  1  2  3  4  5  6\nOF\n\nPocket # :  6  5  4  3  2  1\nP2 --> [3] [1, 6, 0, 1, 6, 1]\nP1 -->     [7, 2, 3, 1, 7, 7] [3]\nPocket # :  1  2  3  4  5  6\n\nPocket # :  6  5  4  3  2  1\nP2 --> [3] [1, 6, 0, 1, 6, 1]\nP1 -->     [7, 2, 3, 0, 8, 7] [3]\nPocket # :  1  2  3  4  5  6\nThere are no beads in this pocket. Look at the board carefully.\nThere are no beads in this pocket. Look at the board carefully.\nThere are no beads in this pocket. Look at the board carefully.\nThere are no beads in this pocket. Look at the board carefully.\n\nPocket # :  6  5  4  3  2  1\nP2 --> [3] [1, 6, 4, 0, 6, 1]\nP1 -->     [7, 2, 0, 0, 8, 7] [3]\nPocket # :  1  2  3  4  5  6\nThere are no beads in this pocket. Look at the board carefully.\nOF\n\nPocket # :  6  5  4  3  2  1\nP2 --> [3] [2, 7, 5, 1, 7, 2]\nP1 -->     [7, 2, 0, 0, 8, 0] [4]\nPocket # :  1  2  3  4  5  6\nOF\n\nPocket # :  6  5  4  3  2  1\nP2 --> [4] [0, 7, 5, 1, 7, 2]\nP1 -->     [8, 2, 0, 0, 8, 0] [4]\nPocket # :  1  2  3  4  5  6\n"
    },
    {
     "output_type": "error",
     "ename": "ValueError",
     "evalue": "invalid literal for int() with base 10: ''",
     "traceback": [
      "\u001b[1;31m---------------------------------------------------------------------------\u001b[0m",
      "\u001b[1;31mValueError\u001b[0m                                Traceback (most recent call last)",
      "\u001b[1;32m<ipython-input-21-769c8964bca9>\u001b[0m in \u001b[0;36m<module>\u001b[1;34m\u001b[0m\n\u001b[0;32m      1\u001b[0m \u001b[1;32mwhile\u001b[0m \u001b[0mP1inplay\u001b[0m \u001b[1;33m!=\u001b[0m\u001b[1;36m0\u001b[0m \u001b[1;32mand\u001b[0m \u001b[0mP2inplay\u001b[0m \u001b[1;33m!=\u001b[0m \u001b[1;36m0\u001b[0m\u001b[1;33m:\u001b[0m\u001b[1;33m\u001b[0m\u001b[1;33m\u001b[0m\u001b[0m\n\u001b[1;32m----> 2\u001b[1;33m     \u001b[0mP1_move\u001b[0m \u001b[1;33m=\u001b[0m \u001b[0mint\u001b[0m\u001b[1;33m(\u001b[0m\u001b[0minput\u001b[0m\u001b[1;33m(\u001b[0m\u001b[1;34m\"Player 1, Which Pocket do you choose?\"\u001b[0m\u001b[1;33m)\u001b[0m\u001b[1;33m)\u001b[0m\u001b[1;33m\u001b[0m\u001b[1;33m\u001b[0m\u001b[0m\n\u001b[0m\u001b[0;32m      3\u001b[0m     \u001b[0mBeads\u001b[0m \u001b[1;33m=\u001b[0m \u001b[0mBP1\u001b[0m\u001b[1;33m[\u001b[0m\u001b[0mP1_move\u001b[0m \u001b[1;33m-\u001b[0m \u001b[1;36m1\u001b[0m\u001b[1;33m]\u001b[0m\u001b[1;33m\u001b[0m\u001b[1;33m\u001b[0m\u001b[0m\n\u001b[0;32m      4\u001b[0m     \u001b[1;32mif\u001b[0m \u001b[0mBP1\u001b[0m\u001b[1;33m[\u001b[0m\u001b[0mP1_move\u001b[0m \u001b[1;33m-\u001b[0m \u001b[1;36m1\u001b[0m\u001b[1;33m]\u001b[0m \u001b[1;33m==\u001b[0m \u001b[1;36m0\u001b[0m\u001b[1;33m:\u001b[0m\u001b[1;33m\u001b[0m\u001b[1;33m\u001b[0m\u001b[0m\n\u001b[0;32m      5\u001b[0m         \u001b[0mprint\u001b[0m\u001b[1;33m(\u001b[0m\u001b[1;34m\"There are no beads in this pocket. Look at the board carefully.\"\u001b[0m\u001b[1;33m)\u001b[0m\u001b[1;33m\u001b[0m\u001b[1;33m\u001b[0m\u001b[0m\n",
      "\u001b[1;31mValueError\u001b[0m: invalid literal for int() with base 10: ''"
     ]
    }
   ],
   "source": [
    "while P1inplay !=0 and P2inplay != 0:\n",
    "    P1_move = int(input(\"Player 1, Which Pocket do you choose?\"))\n",
    "    Beads = BP1[P1_move - 1]\n",
    "    if BP1[P1_move - 1] == 0:\n",
    "        print(\"There are no beads in this pocket. Look at the board carefully.\")\n",
    "        continue\n",
    "    elif Beads + P1_move < 7:\n",
    "        BP1[P1_move - 1] = 0\n",
    "        for i in range(P1_move, Beads+P1_move):\n",
    "            BP1[i] = BP1[i] + 1\n",
    "        if (BP1[i] == 1) and (i != 6):\n",
    "            BP1[i] = BP1[i]+BP2[5-i]\n",
    "            BP2[5-i]=0\n",
    "            pass\n",
    "        print_board() \n",
    "    elif Beads + P1_move == 7:\n",
    "        BP1[P1_move - 1] = 0\n",
    "        for i in range(P1_move, Beads+P1_move):\n",
    "            BP1[i] = BP1[i] + 1\n",
    "        print_board()\n",
    "        continue\n",
    "    else:\n",
    "        print('E')\n",
    "        Elow = Beads + P1_move - 6\n",
    "\n",
    "        for i in range(P1_move, 7):\n",
    "            BP1[i] = BP1[i] + 1\n",
    "        if Elow < 7:\n",
    "            BP1[P1_move - 1] = 0\n",
    "            for i in range(0, Elow - 1):\n",
    "                BP2[i] = BP2[i] + 1\n",
    "            print_board()\n",
    "        else:\n",
    "            BP1[P1_move - 1] = 0\n",
    "            for i in range(0, 6):\n",
    "                BP2[i] = BP2[i] + 1\n",
    "            for i in range(0, Elow - 7):\n",
    "                BP1[i] = BP1[i] + 1\n",
    "            if (BP1[i] == 1) and (i != 6):\n",
    "                BP1[i] = BP1[i] + BP2[5-i]\n",
    "                BP2[5-i] = 0\n",
    "                pass\n",
    "            print_board()\n",
    "    P1inplay = sum(BP1[:6])\n",
    "    P2inplay = sum(BP2[:6])\n",
    "    while (P1inplay != 0) and (P2inplay != 0):\n",
    "        P2_move = int(input('Player 2, Which pocket do you choose?'))\n",
    "        Beads = BP2[P2_move - 1]\n",
    "        if BP2[P2_move - 1] == 0:\n",
    "            print('There are no beads in this pocket. Look at the board carefully.')\n",
    "            continue\n",
    "        elif Beads + P2_move < 7:\n",
    "            BP2[P2_move - 1] = 0\n",
    "            for i in range(P2_move, Beads+P2_move):\n",
    "                BP2[i] = BP2[i] + 1\n",
    "            if (BP2[i] == 1) and (i != 6):\n",
    "                BP2[i] = BP2[i] + BP1[5-i]\n",
    "                BP1[5-i] = 0\n",
    "                pass\n",
    "            print_board()\n",
    "        elif Beads + P2_move == 7:\n",
    "            BP2[P2_move - 1] = 0\n",
    "            for i in range(P2_move, Beads+P2_move):\n",
    "                BP2[i] = BP2[i] + 1\n",
    "            print_board()\n",
    "            continue\n",
    "        else:\n",
    "            print('E')\n",
    "            Elow = Beads + P2_move - 6\n",
    "            for i in range(P2_move, 7):\n",
    "                BP2[i] = BP2[i] + 1\n",
    "            if Elow < 7:\n",
    "                BP2[P2_move - 1] = 0\n",
    "                for i in range(0, Elow - 1):\n",
    "                    BP1[i] = BP1[i] + 1\n",
    "            else:\n",
    "                BP2[P2_move - 1] = 0\n",
    "                for i in range(0, 6):\n",
    "                    BP1[i] = BP1[i] + 1\n",
    "                for i in range(0, Elow - 5):\n",
    "                    BP2[i] = BP2[i] + 1\n",
    "                if (BP2[i] == 1) and (i != 6):\n",
    "                    BP2[i] = BP2[i] + BP1[5-i]\n",
    "                    BP1[5-i] = 0\n",
    "                    pass\n",
    "            print_board()\n",
    "            P1InPlay = sum(BP1[:6])\n",
    "            P2InPlay = sum(BP2[:6])\n",
    "        break"
   ]
  },
  {
   "cell_type": "code",
   "execution_count": 23,
   "metadata": {},
   "outputs": [
    {
     "output_type": "stream",
     "name": "stdout",
     "text": "GAME OVER. Player 1 Scored:  4 Player 2 Scored:  4\nPlayer 1 wins\n"
    }
   ],
   "source": [
    "print ('GAME OVER. Player 1 Scored: ', BP1[6], 'Player 2 Scored: ', BP2[6])\n",
    "if BP1[6] >= BP2[6]:\n",
    "    print(\"Player 1 wins\")\n",
    "else:\n",
    "    print(\"Player 2 wins\")"
   ]
  }
 ],
 "metadata": {
  "language_info": {
   "codemirror_mode": {
    "name": "ipython",
    "version": 3
   },
   "file_extension": ".py",
   "mimetype": "text/x-python",
   "name": "python",
   "nbconvert_exporter": "python",
   "pygments_lexer": "ipython3",
   "version": "3.7.6-final"
  },
  "orig_nbformat": 2,
  "kernelspec": {
   "name": "python3",
   "display_name": "Python 3"
  }
 },
 "nbformat": 4,
 "nbformat_minor": 2
}