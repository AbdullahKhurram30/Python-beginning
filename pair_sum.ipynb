{
 "cells": [
  {
   "cell_type": "code",
   "execution_count": 76,
   "id": "bb8d6e00",
   "metadata": {},
   "outputs": [],
   "source": [
    "import time\n",
    "def closest_pairs(a, b, k):\n",
    "    start = time.time()\n",
    "    possibilities = []\n",
    "    for i in range(len(a)):\n",
    "        for j in range(len(b)):\n",
    "            possibilities.append((abs(k - (a[i] + b[j])), a[i], b[j]))\n",
    "    possibilities.sort()\n",
    "    end = time.time()\n",
    "    return possibilities[0], end-start"
   ]
  },
  {
   "cell_type": "code",
   "execution_count": 77,
   "id": "496e08c9",
   "metadata": {},
   "outputs": [
    {
     "data": {
      "text/plain": [
       "((1, 7, 2), 0.0)"
      ]
     },
     "execution_count": 77,
     "metadata": {},
     "output_type": "execute_result"
    }
   ],
   "source": [
    "a = [6,7,5,4]\n",
    "b = [1,1,8,2]\n",
    "k = 10\n",
    "closest_pairs(a,b,k)"
   ]
  },
  {
   "cell_type": "code",
   "execution_count": 78,
   "id": "912a8802",
   "metadata": {},
   "outputs": [
    {
     "data": {
      "text/plain": [
       "((2, 12, 45), 0.0)"
      ]
     },
     "execution_count": 78,
     "metadata": {},
     "output_type": "execute_result"
    }
   ],
   "source": [
    "A = [12,3,65,45,7,5]\n",
    "B = [45,67,8,4,65.37]\n",
    "k = 55\n",
    "closest_pairs(A, B, k)"
   ]
  }
 ],
 "metadata": {
  "kernelspec": {
   "display_name": "Python 3",
   "language": "python",
   "name": "python3"
  },
  "language_info": {
   "codemirror_mode": {
    "name": "ipython",
    "version": 3
   },
   "file_extension": ".py",
   "mimetype": "text/x-python",
   "name": "python",
   "nbconvert_exporter": "python",
   "pygments_lexer": "ipython3",
   "version": "3.8.10"
  }
 },
 "nbformat": 4,
 "nbformat_minor": 5
}
